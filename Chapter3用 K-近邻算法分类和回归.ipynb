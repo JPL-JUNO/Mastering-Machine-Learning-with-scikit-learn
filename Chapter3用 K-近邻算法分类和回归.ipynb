{
 "cells": [
  {
   "cell_type": "code",
   "execution_count": 1,
   "id": "b1e11de7",
   "metadata": {
    "ExecuteTime": {
     "end_time": "2022-07-27T15:36:37.245527Z",
     "start_time": "2022-07-27T15:36:36.666637Z"
    }
   },
   "outputs": [],
   "source": [
    "import numpy as np\n",
    "import matplotlib.pyplot as plt"
   ]
  },
  {
   "cell_type": "markdown",
   "id": "8b305a0f",
   "metadata": {},
   "source": [
    "在本章中，我们将介绍 K-近邻算法（KNN），一种可以用于分类和回归任务的算法。KNN 简单的外表下隐藏着强大的功能和高可用性，它广泛运用于现实世界的各个领域，包括搜索系统和推荐系统。我们将对比 KNN 和简单线性回归模型，同时通过几个玩具问题来理解 KNN 模型。"
   ]
  },
  {
   "cell_type": "markdown",
   "id": "4e872676",
   "metadata": {},
   "source": [
    "# K-近邻模型"
   ]
  },
  {
   "cell_type": "markdown",
   "id": "8876fbcb",
   "metadata": {},
   "source": [
    "# 惰性学习和非参数模型\n",
    "KNN 是一种**惰性学习模型**。惰性学习模型，也被称为基于实例的学习模型，会对训练数据集进行少量的处理或者完全不处理。和简单线性回归这样的勤奋学习模型不同，KNN在训练阶段不会估计由模型生成的参数。惰性学习有利有弊。训练勤奋学习模型通常很耗费计算资源，但是在模型预测阶段代价并不昂贵。例如在简单线性回归中，预测阶段只需要将特征乘以系数，再加上截断参数即可。惰性学习模型几乎可以进行即刻预测，但是需要付出高昂的代价。在 KNN 模型最简单的实现中，进行预测要求计算出一个测试实例和所有训练实例之间的距离。\n",
    "\n",
    "和我们将要讨论的其他模型不同，KNN 是一种**非参数模型**。参数模型使用固定数量的参数或者系数去定义能够对数据进行总结的模型，参数的数量独立于训练实例的数量。非参数模型从字面上看似乎是个误称，因为它并不意味着模型不需要参数。相反，**非参数模型意味着模型的参数个数并不固定**，它可能随着训练实例数量的增加而增加。\n",
    "\n",
    "当训练数据数量庞大，同时你对响应变量和解释变量之间的关系所知甚少时，非参数模型会非常有用。 **KNN 模型只基于一个假设：互相接近的实例拥有类似的响应变量值**。非参数模型提供的灵活性并不总是可取的，当训练数据很缺乏或者你对响应变量和解释变量之间的关系有所了解时，对响应变量和解释变量之间关系做假设的模型就很有用。"
   ]
  },
  {
   "cell_type": "markdown",
   "id": "0d4e8dd0",
   "metadata": {},
   "source": [
    "# KNN 模型分类\n",
    "\n",
    "KNN 并不仅限于两个特征的情形，KNN 算法可以使用任意数量的特征，但是特征数量多于 3 时将无法进行可视化。"
   ]
  },
  {
   "cell_type": "code",
   "execution_count": 2,
   "id": "1a2ad446",
   "metadata": {
    "ExecuteTime": {
     "end_time": "2022-07-27T15:39:17.830576Z",
     "start_time": "2022-07-27T15:39:17.824025Z"
    }
   },
   "outputs": [],
   "source": [
    "X_train = np.array([\n",
    "    [158, 64],\n",
    "    [170, 86],\n",
    "    [183, 84],\n",
    "    [191, 80],\n",
    "    [155, 49],\n",
    "    [163, 59],\n",
    "    [180, 67],\n",
    "    [158, 54],\n",
    "    [170, 67]\n",
    "])\n",
    "y_train = ['male', 'male', 'male', 'male', 'female', 'female', 'female', 'female', 'female']"
   ]
  },
  {
   "cell_type": "code",
   "execution_count": 10,
   "id": "75f5e19d",
   "metadata": {
    "ExecuteTime": {
     "end_time": "2022-07-27T15:44:21.188531Z",
     "start_time": "2022-07-27T15:44:21.075266Z"
    }
   },
   "outputs": [
    {
     "data": {
      "image/png": "[encoded data removed]",
      "text/plain": [
       "<Figure size 432x288 with 1 Axes>"
      ]
     },
     "metadata": {
      "needs_background": "light"
     },
     "output_type": "display_data"
    }
   ],
   "source": [
    "plt.figure()\n",
    "plt.title('Human Heights and Weights by Sex')\n",
    "plt.xlabel('Height in cm')\n",
    "plt.ylabel('Weight in kg')\n",
    "for i, x in enumerate(X_train):\n",
    "    plt.scatter(x[0], x[1], \n",
    "                c='k', \n",
    "                marker='x' if y_train[i] == 'male' else 'D')\n",
    "plt.grid(True, ls=':')\n",
    "plt.show()\n"
   ]
  },
  {
   "cell_type": "markdown",
   "id": "a28c65d8",
   "metadata": {},
   "source": [
    "首先我们需要定义距离衡量方法，在此我们使用**欧几里得距离**，即在一个欧几里得空间中两点之间的直线距离。二维空间中的欧几里得距离计算如公式\\ref{欧几里得距离}所示：\n",
    "\n",
    "\\begin{equation}\\label{欧几里得距离}\n",
    "d(p,q)=d(p,q)=\\sqrt{(q_1-q_1)^2+(p_1-p_2)^2}\n",
    "\\end{equation}\n",
    "接下来，我们需要计算测试实例和所有训练实例之间的距离。"
   ]
  },
  {
   "cell_type": "code",
   "execution_count": 14,
   "id": "fd2d1f22",
   "metadata": {
    "ExecuteTime": {
     "end_time": "2022-07-27T15:51:41.119011Z",
     "start_time": "2022-07-27T15:51:41.105400Z"
    },
    "scrolled": true
   },
   "outputs": [
    {
     "name": "stdout",
     "output_type": "stream",
     "text": [
      "[ 6.70820393 21.9317122  31.30495168 37.36308338 21.         13.60147051\n",
      " 25.17935662 16.2788206  15.29705854]\n"
     ]
    }
   ],
   "source": [
    "x = np.array([[155, 70]])\n",
    "distances = np.sqrt(np.sum((X_train-x)**2, axis=1))\n",
    "print(distances)"
   ]
  },
  {
   "cell_type": "markdown",
   "id": "bb68caa1",
   "metadata": {},
   "source": [
    "我们设置参数 k 为 3，并选取 3 个距离最近的训练实例。计算出测试实例和所有训练实例之间的距离，并找出距离最近的邻居中**最普遍**的性别。"
   ]
  },
  {
   "cell_type": "code",
   "execution_count": 33,
   "id": "00e60215",
   "metadata": {
    "ExecuteTime": {
     "end_time": "2022-07-27T16:15:12.627774Z",
     "start_time": "2022-07-27T16:15:12.622752Z"
    }
   },
   "outputs": [
    {
     "name": "stdout",
     "output_type": "stream",
     "text": [
      "['male' 'female' 'female']\n"
     ]
    }
   ],
   "source": [
    "nearest_neighbor_indices = distances.argsort()[:3]    # 升序排序后，返回索引值\n",
    "nearest_neighbor_genders = np.take(y_train, nearest_neighbor_indices)\n",
    "print(nearest_neighbor_genders)"
   ]
  },
  {
   "cell_type": "code",
   "execution_count": 35,
   "id": "88961e5c",
   "metadata": {
    "ExecuteTime": {
     "end_time": "2022-07-27T16:15:19.773542Z",
     "start_time": "2022-07-27T16:15:19.756750Z"
    }
   },
   "outputs": [
    {
     "data": {
      "text/plain": [
       "'female'"
      ]
     },
     "execution_count": 35,
     "metadata": {},
     "output_type": "execute_result"
    }
   ],
   "source": [
    "from collections import Counter\n",
    "# 将各类进行计数\n",
    "b = Counter(np.take(y_train, distances.argsort()[:3]))\n",
    "# 找到近邻最多的类型，返回类型和数量，使用[0][0]获取类型\n",
    "b.most_common(1)[0][0]"
   ]
  },
  {
   "cell_type": "markdown",
   "id": "c0142ceb",
   "metadata": {},
   "source": [
    "现在使用 scikit-learn 类库实现一个 KNN 分类器。"
   ]
  },
  {
   "cell_type": "code",
   "execution_count": null,
   "id": "28d5584d",
   "metadata": {},
   "outputs": [],
   "source": []
  }
 ],
 "metadata": {
  "kernelspec": {
   "display_name": "Python 3 (ipykernel)",
   "language": "python",
   "name": "python3"
  },
  "language_info": {
   "codemirror_mode": {
    "name": "ipython",
    "version": 3
   },
   "file_extension": ".py",
   "mimetype": "text/x-python",
   "name": "python",
   "nbconvert_exporter": "python",
   "pygments_lexer": "ipython3",
   "version": "3.9.12"
  },
  "latex_envs": {
   "LaTeX_envs_menu_present": true,
   "autoclose": false,
   "autocomplete": true,
   "bibliofile": "biblio.bib",
   "cite_by": "apalike",
   "current_citInitial": 1,
   "eqLabelWithNumbers": true,
   "eqNumInitial": 1,
   "hotkeys": {
    "equation": "Ctrl-E",
    "itemize": "Ctrl-I"
   },
   "labels_anchors": false,
   "latex_user_defs": false,
   "report_style_numbering": false,
   "user_envs_cfg": false
  },
  "toc": {
   "base_numbering": 1,
   "nav_menu": {},
   "number_sections": true,
   "sideBar": true,
   "skip_h1_title": false,
   "title_cell": "Table of Contents",
   "title_sidebar": "Contents",
   "toc_cell": false,
   "toc_position": {},
   "toc_section_display": true,
   "toc_window_display": true
  },
  "varInspector": {
   "cols": {
    "lenName": 16,
    "lenType": 16,
    "lenVar": 40
   },
   "kernels_config": {
    "python": {
     "delete_cmd_postfix": "",
     "delete_cmd_prefix": "del ",
     "library": "var_list.py",
     "varRefreshCmd": "print(var_dic_list())"
    },
    "r": {
     "delete_cmd_postfix": ") ",
     "delete_cmd_prefix": "rm(",
     "library": "var_list.r",
     "varRefreshCmd": "cat(var_dic_list()) "
    }
   },
   "types_to_exclude": [
    "module",
    "function",
    "builtin_function_or_method",
    "instance",
    "_Feature"
   ],
   "window_display": false
  },
  "vp": {
   "vp_config_version": "1.0.0",
   "vp_menu_width": 273,
   "vp_note_display": false,
   "vp_note_width": 0,
   "vp_position": {
    "width": 278
   },
   "vp_section_display": false,
   "vp_signature": "VisualPython"
  }
 },
 "nbformat": 4,
 "nbformat_minor": 5
}
